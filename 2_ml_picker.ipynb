{
 "cells": [
  {
   "cell_type": "code",
   "execution_count": 9,
   "id": "62abee64-d5f1-4b52-af25-29ba498ecd8c",
   "metadata": {},
   "outputs": [],
   "source": [
    "import numpy as np\n",
    "import h5py\n",
    "import scipy.signal\n",
    "import matplotlib.pyplot as plt"
   ]
  },
  {
   "cell_type": "code",
   "execution_count": 39,
   "id": "7e38a2ab-5a59-4054-8400-4a917ea007dc",
   "metadata": {},
   "outputs": [],
   "source": [
    "class Hdf5DataGenerator:\n",
    "\n",
    "    def __call__(self, filename, batchsize):\n",
    "        \n",
    "        # When using with tensorflow datasets, string args are passed as bytes.\n",
    "        # Convert them back\n",
    "        if isinstance(filename, bytes):\n",
    "            filename = filename.decode()\n",
    "\n",
    "        with h5py.File(filename, \"r\") as fin:\n",
    "\n",
    "            waveforms = fin.get('waveforms')\n",
    "            event_types = fin.get('type')\n",
    "            p_start = fin.get('p_start')\n",
    "            s_start = fin.get('s_start')\n",
    "\n",
    "            waveform_length = waveforms[0].shape[0]\n",
    "            istart = 0\n",
    "            istop = batchsize\n",
    "            exhausted = False\n",
    "\n",
    "            pick_width = 100\n",
    "            half_pick_width = pick_width // 2\n",
    "            pick = scipy.signal.windows.gaussian(pick_width, 12)\n",
    "\n",
    "            while not exhausted:\n",
    "\n",
    "                data = waveforms[istart:istop]\n",
    "                targets = []\n",
    "\n",
    "                # Create the target class waveforms \n",
    "                for i in range(batchsize):\n",
    "\n",
    "                    p_true = np.zeros(shape=(waveform_length))\n",
    "                    s_true = np.zeros(shape=(waveform_length))\n",
    "                    n_true = np.ones(shape=(waveform_length))\n",
    "    \n",
    "                    # Insert pick \n",
    "                    p_pos = p_start[i]\n",
    "                    p_true[p_pos - half_pick_width : p_pos + half_pick_width] = pick\n",
    "    \n",
    "                    s_pos = s_start[i]\n",
    "                    s_true[s_pos - half_pick_width : s_pos + half_pick_width] = pick\n",
    "    \n",
    "                    n_true -= p_true\n",
    "                    n_true -= s_true\n",
    "\n",
    "                    targets.append(\n",
    "                        np.dstack([p_true, s_true, n_true])\n",
    "                    )\n",
    "\n",
    "                yield (data, np.vstack(targets))\n",
    "\n",
    "                istart += batchsize\n",
    "                istop += batchsize\n",
    "\n",
    "                if istop > len(waveforms):\n",
    "                    exhausted = True\n",
    "\n",
    "                \n",
    "\n",
    "            \n",
    "\n",
    "        "
   ]
  },
  {
   "cell_type": "code",
   "execution_count": 40,
   "id": "1cedd671-9385-4f49-879b-cd48219de6cd",
   "metadata": {},
   "outputs": [
    {
     "name": "stdout",
     "output_type": "stream",
     "text": [
      "targets: [array([[[0., 0., 1.],\n",
      "        [0., 0., 1.],\n",
      "        [0., 0., 1.],\n",
      "        ...,\n",
      "        [0., 0., 1.],\n",
      "        [0., 0., 1.],\n",
      "        [0., 0., 1.]]], shape=(1, 6000, 3))]\n",
      "d.shape: (1, 6000, 3)\n",
      "t.shape: (1, 6000, 3)\n"
     ]
    }
   ],
   "source": [
    "gen = Hdf5DataGenerator()\n",
    "\n",
    "\n",
    "for d, t in gen('selected_events.h5', 1):\n",
    "\n",
    "    print('d.shape:', d.shape)\n",
    "    print('t.shape:', t.shape)\n",
    "\n",
    "    _, ax = plt.subplots(4, 1, sharex=True)\n",
    "\n",
    "    xvals = np.arange(d.shape[1])\n",
    "\n",
    "    ax[0].plot(\n",
    "\n",
    "    \n",
    "    break"
   ]
  }
 ],
 "metadata": {
  "kernelspec": {
   "display_name": "Python 3 (ipykernel)",
   "language": "python",
   "name": "python3"
  },
  "language_info": {
   "codemirror_mode": {
    "name": "ipython",
    "version": 3
   },
   "file_extension": ".py",
   "mimetype": "text/x-python",
   "name": "python",
   "nbconvert_exporter": "python",
   "pygments_lexer": "ipython3",
   "version": "3.11.13"
  }
 },
 "nbformat": 4,
 "nbformat_minor": 5
}
