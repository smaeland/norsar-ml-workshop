{
 "cells": [
  {
   "cell_type": "markdown",
   "id": "27000f4e-eb62-4521-8d3c-a73abd22b873",
   "metadata": {},
   "source": [
    "# Setup test\n",
    "\n",
    "This notebook serves only as a test for verifying that things work. \n",
    "\n",
    "If you click the cell below and press the \"Run\" button (or use the `Crtl+Enter` shortcut) and get a positive message back, you're all set! \n"
   ]
  },
  {
   "cell_type": "code",
   "execution_count": null,
   "id": "b588438f-4b8c-47eb-aeea-0922b0fe69f8",
   "metadata": {},
   "outputs": [],
   "source": [
    "# Check that imports work\n",
    "import os\n",
    "os.environ['TF_CPP_MIN_LOG_LEVEL'] = '3'\n",
    "import numpy as np\n",
    "import tensorflow as tf\n",
    "\n",
    "# Compute something\n",
    "x = tf.reduce_sum(tf.random.normal([1000, 1000]))\n",
    "\n",
    "# List devices\n",
    "print('Available devices:')\n",
    "for device in tf.config.list_physical_devices():\n",
    "    print(device)\n",
    "\n",
    "# Okay\n",
    "print()\n",
    "print('All OK!')"
   ]
  },
  {
   "cell_type": "markdown",
   "id": "318f4ea3-dd34-43fa-998f-ade9f256230c",
   "metadata": {},
   "source": [
    "(Here it should say \"All OK\")."
   ]
  },
  {
   "cell_type": "markdown",
   "id": "03da0409-2d2b-45a4-b446-94afa07ae96b",
   "metadata": {},
   "source": [
    "## Optional\n",
    "\n",
    "As a tutorial to using this type of notebooks, feel free to run and modify the cells below as well. "
   ]
  },
  {
   "cell_type": "markdown",
   "id": "1e1dfb3f-13f0-4af8-b438-e163234875e5",
   "metadata": {},
   "source": [
    "Here are some numbers, stored as a NumPy `array`:"
   ]
  },
  {
   "cell_type": "code",
   "execution_count": null,
   "id": "3d95d9bc-1e96-4231-a591-9e8513b12cdc",
   "metadata": {},
   "outputs": [],
   "source": [
    "np.arange(1, 10)"
   ]
  },
  {
   "cell_type": "markdown",
   "id": "114951c8-7855-4bd1-96b4-072b25117ed1",
   "metadata": {},
   "source": [
    "What does the `arange` function do? Add a question mark behind it to get the documentation."
   ]
  },
  {
   "cell_type": "code",
   "execution_count": null,
   "id": "8717a52f-39d9-4d01-8e8e-fb1211e19e49",
   "metadata": {},
   "outputs": [],
   "source": [
    "np.arange?"
   ]
  },
  {
   "cell_type": "markdown",
   "id": "605a18bb-b378-4cda-aa84-71f2ab87ff9b",
   "metadata": {},
   "source": [
    "Here is a plot."
   ]
  },
  {
   "cell_type": "code",
   "execution_count": null,
   "id": "a72a0a36-f857-4662-9160-987dcb5de44c",
   "metadata": {},
   "outputs": [],
   "source": [
    "import matplotlib.pyplot as plt\n",
    "\n",
    "x_values = np.arange(1, 10)\n",
    "y_values = [1, 2, 2.1, 2.2, 2.3, 4, 3, 5, 6]\n",
    "\n",
    "plt.plot(x_values, y_values)"
   ]
  },
  {
   "cell_type": "markdown",
   "id": "61f1cbaf-9734-493b-9ec4-c3e417509412",
   "metadata": {},
   "source": [
    "This is how to define a function. Note that with NumPy arrays, we don't need to loop over the individual entries in the array, and can write complex operations on a single line."
   ]
  },
  {
   "cell_type": "code",
   "execution_count": null,
   "id": "e29e6637-e437-4962-bbd4-675438422782",
   "metadata": {},
   "outputs": [],
   "source": [
    "def add_one(x):\n",
    "    y = x + 1\n",
    "    return y\n",
    "\n",
    "a = np.arange(1, 11)\n",
    "b = add_one(a)\n",
    "\n",
    "print('Before:', a)\n",
    "print('After: ', b)"
   ]
  },
  {
   "cell_type": "markdown",
   "id": "5d245658-7257-4ab5-9d3a-c0557da34ebc",
   "metadata": {},
   "source": [
    "NumPy arrays can be multi-dimensional, for instance this is a table of random data:"
   ]
  },
  {
   "cell_type": "code",
   "execution_count": null,
   "id": "4e1a1de3-5c87-438d-9e42-8843e7a82ae4",
   "metadata": {},
   "outputs": [],
   "source": [
    "data = np.random.uniform(size=(5,5))\n",
    "print(data)"
   ]
  },
  {
   "cell_type": "markdown",
   "id": "7feb1967-6dbc-4ce7-93cc-99c926cdaac6",
   "metadata": {},
   "source": [
    "The `shape` indicates the number of rows and columns:"
   ]
  },
  {
   "cell_type": "code",
   "execution_count": null,
   "id": "8f2c359f-ba16-4da4-a5c7-99339efbc24c",
   "metadata": {},
   "outputs": [],
   "source": [
    "print(data.shape)"
   ]
  },
  {
   "cell_type": "markdown",
   "id": "c6c8eeb2-2813-4510-8367-a6f4e225dae0",
   "metadata": {},
   "source": [
    "Here is a for instance an `array` that corresponds to an image, which has three dimensions: Row number of each pixel, column number of each pixel, and colour channel for each pixel:"
   ]
  },
  {
   "cell_type": "code",
   "execution_count": null,
   "id": "01912266-9593-4403-8803-680d2644de2a",
   "metadata": {
    "scrolled": true
   },
   "outputs": [],
   "source": [
    "# Make some wacky data \n",
    "x = np.linspace(-1, 1, 100)\n",
    "y = np.linspace(-1, 1, 100)\n",
    "X, Y = np.meshgrid(x, y)\n",
    "R = np.sqrt(X**2 + Y**2)\n",
    "\n",
    "# Format it as an image\n",
    "rgb_image = np.zeros((100, 100, 3))\n",
    "rgb_image[:, :, 0] = (np.sin(R * 10 + X * 3) + 1) / 2  # Red channel\n",
    "rgb_image[:, :, 1] = (np.cos(R * 8 + Y * 4) + 1) / 2  # Green channel\n",
    "rgb_image[:, :, 2] = (np.sin(R * 12 - X * 2) + 1) / 2  # Blue channel\n",
    "rgb_image = np.clip(rgb_image, 0, 1)\n",
    "\n",
    "# Print the image dimensions\n",
    "print('Image shape:', rgb_image.shape)"
   ]
  },
  {
   "cell_type": "code",
   "execution_count": null,
   "id": "1611e36c-bcc2-4e7f-933c-0ed5290e2f9e",
   "metadata": {},
   "outputs": [],
   "source": [
    "# Show the image too:\n",
    "plt.imshow(rgb_image)\n",
    "plt.show()"
   ]
  }
 ],
 "metadata": {
  "kernelspec": {
   "display_name": "Python 3 (ipykernel)",
   "language": "python",
   "name": "python3"
  },
  "language_info": {
   "codemirror_mode": {
    "name": "ipython",
    "version": 3
   },
   "file_extension": ".py",
   "mimetype": "text/x-python",
   "name": "python",
   "nbconvert_exporter": "python",
   "pygments_lexer": "ipython3",
   "version": "3.11.13"
  }
 },
 "nbformat": 4,
 "nbformat_minor": 5
}
